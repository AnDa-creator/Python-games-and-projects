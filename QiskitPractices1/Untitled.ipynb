{
 "cells": [
  {
   "cell_type": "code",
   "execution_count": 1,
   "metadata": {},
   "outputs": [
    {
     "data": {
      "image/png": "[encoded data removed]",
      "text/plain": [
       "<Figure size 504x360 with 1 Axes>"
      ]
     },
     "execution_count": 1,
     "metadata": {},
     "output_type": "execute_result"
    }
   ],
   "source": [
    "from qiskit import QuantumCircuit, execute, Aer\n",
    "from qiskit.visualization import plot_histogram\n",
    "import numpy\n",
    "import matplotlib\n",
    "\n",
    "n = 8\n",
    "n_q = n\n",
    "n_b = 8\n",
    "\n",
    "q_c = QuantumCircuit(n_q, n_b)\n",
    "\n",
    "for j in range(n):\n",
    "    q_c.measure(j,j)\n",
    "\n",
    "\n",
    "counts = execute(q_c,Aer.get_backend('qasm_simulator')).result().get_counts()\n",
    "plot_histogram(counts)"
   ]
  },
  {
   "cell_type": "code",
   "execution_count": 2,
   "metadata": {},
   "outputs": [
    {
     "data": {
      "text/html": [
       "<pre style=\"word-wrap: normal;white-space: pre;background: #fff0;line-height: 1.1;font-family: &quot;Courier New&quot;,Courier,monospace\">     ┌─┐                     \n",
       "q_0: ┤M├─────────────────────\n",
       "     └╥┘┌─┐                  \n",
       "q_1: ─╫─┤M├──────────────────\n",
       "      ║ └╥┘┌─┐               \n",
       "q_2: ─╫──╫─┤M├───────────────\n",
       "      ║  ║ └╥┘┌─┐            \n",
       "q_3: ─╫──╫──╫─┤M├────────────\n",
       "      ║  ║  ║ └╥┘┌─┐         \n",
       "q_4: ─╫──╫──╫──╫─┤M├─────────\n",
       "      ║  ║  ║  ║ └╥┘┌─┐      \n",
       "q_5: ─╫──╫──╫──╫──╫─┤M├──────\n",
       "      ║  ║  ║  ║  ║ └╥┘┌─┐   \n",
       "q_6: ─╫──╫──╫──╫──╫──╫─┤M├───\n",
       "      ║  ║  ║  ║  ║  ║ └╥┘┌─┐\n",
       "q_7: ─╫──╫──╫──╫──╫──╫──╫─┤M├\n",
       "      ║  ║  ║  ║  ║  ║  ║ └╥┘\n",
       "c_0: ═╩══╬══╬══╬══╬══╬══╬══╬═\n",
       "         ║  ║  ║  ║  ║  ║  ║ \n",
       "c_1: ════╩══╬══╬══╬══╬══╬══╬═\n",
       "            ║  ║  ║  ║  ║  ║ \n",
       "c_2: ═══════╩══╬══╬══╬══╬══╬═\n",
       "               ║  ║  ║  ║  ║ \n",
       "c_3: ══════════╩══╬══╬══╬══╬═\n",
       "                  ║  ║  ║  ║ \n",
       "c_4: ═════════════╩══╬══╬══╬═\n",
       "                     ║  ║  ║ \n",
       "c_5: ════════════════╩══╬══╬═\n",
       "                        ║  ║ \n",
       "c_6: ═══════════════════╩══╬═\n",
       "                           ║ \n",
       "c_7: ══════════════════════╩═\n",
       "                             </pre>"
      ],
      "text/plain": [
       "     ┌─┐                     \n",
       "q_0: ┤M├─────────────────────\n",
       "     └╥┘┌─┐                  \n",
       "q_1: ─╫─┤M├──────────────────\n",
       "      ║ └╥┘┌─┐               \n",
       "q_2: ─╫──╫─┤M├───────────────\n",
       "      ║  ║ └╥┘┌─┐            \n",
       "q_3: ─╫──╫──╫─┤M├────────────\n",
       "      ║  ║  ║ └╥┘┌─┐         \n",
       "q_4: ─╫──╫──╫──╫─┤M├─────────\n",
       "      ║  ║  ║  ║ └╥┘┌─┐      \n",
       "q_5: ─╫──╫──╫──╫──╫─┤M├──────\n",
       "      ║  ║  ║  ║  ║ └╥┘┌─┐   \n",
       "q_6: ─╫──╫──╫──╫──╫──╫─┤M├───\n",
       "      ║  ║  ║  ║  ║  ║ └╥┘┌─┐\n",
       "q_7: ─╫──╫──╫──╫──╫──╫──╫─┤M├\n",
       "      ║  ║  ║  ║  ║  ║  ║ └╥┘\n",
       "c_0: ═╩══╬══╬══╬══╬══╬══╬══╬═\n",
       "         ║  ║  ║  ║  ║  ║  ║ \n",
       "c_1: ════╩══╬══╬══╬══╬══╬══╬═\n",
       "            ║  ║  ║  ║  ║  ║ \n",
       "c_2: ═══════╩══╬══╬══╬══╬══╬═\n",
       "               ║  ║  ║  ║  ║ \n",
       "c_3: ══════════╩══╬══╬══╬══╬═\n",
       "                  ║  ║  ║  ║ \n",
       "c_4: ═════════════╩══╬══╬══╬═\n",
       "                     ║  ║  ║ \n",
       "c_5: ════════════════╩══╬══╬═\n",
       "                        ║  ║ \n",
       "c_6: ═══════════════════╩══╬═\n",
       "                           ║ \n",
       "c_7: ══════════════════════╩═\n",
       "                             "
      ]
     },
     "execution_count": 2,
     "metadata": {},
     "output_type": "execute_result"
    }
   ],
   "source": [
    "q_c.draw()"
   ]
  },
  {
   "cell_type": "code",
   "execution_count": null,
   "metadata": {},
   "outputs": [],
   "source": []
  }
 ],
 "metadata": {
  "kernelspec": {
   "display_name": "Python 3",
   "language": "python",
   "name": "python3"
  },
  "language_info": {
   "codemirror_mode": {
    "name": "ipython",
    "version": 3
   },
   "file_extension": ".py",
   "mimetype": "text/x-python",
   "name": "python",
   "nbconvert_exporter": "python",
   "pygments_lexer": "ipython3",
   "version": "3.7.6"
  }
 },
 "nbformat": 4,
 "nbformat_minor": 4
}
